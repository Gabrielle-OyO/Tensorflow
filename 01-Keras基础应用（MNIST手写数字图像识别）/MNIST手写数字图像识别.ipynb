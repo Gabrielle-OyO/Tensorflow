{
  "nbformat": 4,
  "nbformat_minor": 0,
  "metadata": {
    "colab": {
      "name": "MNIST手写数字图像识别.ipynb",
      "provenance": [],
      "collapsed_sections": []
    },
    "kernelspec": {
      "name": "python3",
      "display_name": "Python 3"
    },
    "language_info": {
      "name": "python"
    }
  },
  "cells": [
    {
      "cell_type": "markdown",
      "metadata": {
        "id": "ToLASxFKmPr-"
      },
      "source": [
        "# **Tensorflow2.X学习（一） — Keras基础应用（MNIST手写数字图像识别）**"
      ]
    },
    {
      "cell_type": "markdown",
      "metadata": {
        "id": "WkfTx0VVmYR0"
      },
      "source": [
        "tensorflow：2.6.0\n",
        "---\n",
        "python：3.7.11\n",
        "---\n",
        "\n"
      ]
    },
    {
      "cell_type": "markdown",
      "metadata": {
        "id": "2dczBe5CoASx"
      },
      "source": [
        "**一、版本检查**"
      ]
    },
    {
      "cell_type": "code",
      "metadata": {
        "colab": {
          "base_uri": "https://localhost:8080/",
          "height": 35
        },
        "id": "UGoJXU2pnJxy",
        "outputId": "e526166b-fa63-45b5-85ac-5dd72dcfce1b"
      },
      "source": [
        "tf.__version__"
      ],
      "execution_count": 26,
      "outputs": [
        {
          "output_type": "execute_result",
          "data": {
            "application/vnd.google.colaboratory.intrinsic+json": {
              "type": "string"
            },
            "text/plain": [
              "'2.6.0'"
            ]
          },
          "metadata": {},
          "execution_count": 26
        }
      ]
    },
    {
      "cell_type": "code",
      "metadata": {
        "colab": {
          "base_uri": "https://localhost:8080/"
        },
        "id": "m8feoJApnLZa",
        "outputId": "6102cdaf-d606-4c44-ce72-77487a589273"
      },
      "source": [
        "import platform\n",
        "print(platform.python_version())"
      ],
      "execution_count": 2,
      "outputs": [
        {
          "output_type": "stream",
          "name": "stdout",
          "text": [
            "3.7.11\n"
          ]
        }
      ]
    },
    {
      "cell_type": "markdown",
      "metadata": {
        "id": "lxcV2eJAoEzc"
      },
      "source": [
        "**二.MNIST的数据查看**"
      ]
    },
    {
      "cell_type": "markdown",
      "metadata": {
        "id": "Iv0kWzjfoR8b"
      },
      "source": [
        "1.相关包导入"
      ]
    },
    {
      "cell_type": "code",
      "metadata": {
        "id": "uMEROvSV5BHe"
      },
      "source": [
        "import tensorflow as tf                 \n",
        "from tensorflow.keras import layers\n",
        "import matplotlib.pyplot as plt\n",
        "import pandas as pd"
      ],
      "execution_count": 3,
      "outputs": []
    },
    {
      "cell_type": "markdown",
      "metadata": {
        "id": "v-3BNjXCoKCq"
      },
      "source": [
        "2.读取MNIST数据。"
      ]
    },
    {
      "cell_type": "code",
      "metadata": {
        "id": "6bnUGKSy66By"
      },
      "source": [
        "#分别读入MNIST数据集的训练集数据和测试集数据\n",
        "(X_train_image,y_train_label),(X_test_image,y_test_label) = tf.keras.datasets.mnist.load_data()"
      ],
      "execution_count": 4,
      "outputs": []
    },
    {
      "cell_type": "markdown",
      "metadata": {
        "id": "eWaJpZwlocko"
      },
      "source": [
        "3.打印MNIST数据的尺寸大小"
      ]
    },
    {
      "cell_type": "code",
      "metadata": {
        "colab": {
          "base_uri": "https://localhost:8080/"
        },
        "id": "CXtwLaFz685J",
        "outputId": "d43d7486-ce53-4e64-fee0-533a784369d2"
      },
      "source": [
        "print(len(X_train_image))\n",
        "print(len(X_test_image))\n",
        "print(X_train_image.shape)"
      ],
      "execution_count": 5,
      "outputs": [
        {
          "output_type": "stream",
          "name": "stdout",
          "text": [
            "60000\n",
            "10000\n",
            "(60000, 28, 28)\n"
          ]
        }
      ]
    },
    {
      "cell_type": "markdown",
      "metadata": {
        "id": "t8Lrx60j7E77"
      },
      "source": [
        "60000张图像是训练集的数目，10000张则是测试集的数目，（60000，28，28）中的60000代表的是Batch_size, 28和28分别代表一张图像的长和宽。"
      ]
    },
    {
      "cell_type": "markdown",
      "metadata": {
        "id": "OLL6oD3-ohw0"
      },
      "source": [
        "4.定义函数显示数字的图像"
      ]
    },
    {
      "cell_type": "code",
      "metadata": {
        "colab": {
          "base_uri": "https://localhost:8080/",
          "height": 212
        },
        "id": "NhQn3OFO7B2p",
        "outputId": "f43387cd-bdb6-492b-fe08-b708b24822d1"
      },
      "source": [
        "def plot_image(image):\n",
        "    fig=plt.gcf()    #图表生成\n",
        "    fig.set_size_inches(3,3)  #设置图表大小\n",
        "    plt.imshow(image,cmap='binary') #以黑白灰度显示图片\n",
        "    plt.show()    #开始绘图\n",
        " \n",
        "plot_image(X_train_image[0]) #显示一张图片"
      ],
      "execution_count": 6,
      "outputs": [
        {
          "output_type": "display_data",
          "data": {
            "image/png": "[encoded data removed]",
            "text/plain": [
              "<Figure size 216x216 with 1 Axes>"
            ]
          },
          "metadata": {
            "needs_background": "light"
          }
        }
      ]
    },
    {
      "cell_type": "markdown",
      "metadata": {
        "id": "k4PRXpUcolnX"
      },
      "source": [
        "5.为了更加方便查看图像、标签及预测结果之间对应的关系，我们定义一个函数来显示。\n"
      ]
    },
    {
      "cell_type": "code",
      "metadata": {
        "colab": {
          "base_uri": "https://localhost:8080/",
          "height": 321
        },
        "id": "RCKBwPP57LJz",
        "outputId": "2fc747b4-56a5-4d44-f511-e938e8a33797"
      },
      "source": [
        "def plot_image_labels_prediction(images,labels,prediction,idx,nums=10):\n",
        "    fig = plt.gcf() \n",
        "    fig.set_size_inches(12,14)  #设置图表大小\n",
        "    if nums>25: nums=25 #最多显示25张图像\n",
        "    for i in range(0,nums):\n",
        "        ax = plt.subplot(5,5,1+i) #子图生成\n",
        "        ax.imshow(images[idx],cmap='binary') #idx是为了方便索引所要查询的图像\n",
        "        title = 'label=' + str(labels[idx]) #定义title方便图像结果对应\n",
        "        if(len(prediction)>0): #如果有预测图像，则显示预测结果\n",
        "            title += 'prediction='+ str(prediction[idx])\n",
        "        ax.set_title(title,fontsize=10) #设置图像title\n",
        "        ax.set_xticks([]) #无x刻度\n",
        "        ax.set_yticks([]) #无y刻度\n",
        "        idx+=1\n",
        "    plt.show()\n",
        " \n",
        "plot_image_labels_prediction(X_train_image,y_train_label,[],0,10) #显示前10张的图像\n",
        "#下图为最后一行命令的显示结果："
      ],
      "execution_count": 7,
      "outputs": [
        {
          "output_type": "display_data",
          "data": {
            "image/png": "[encoded data removed]",
            "text/plain": [
              "<Figure size 864x1008 with 10 Axes>"
            ]
          },
          "metadata": {}
        }
      ]
    },
    {
      "cell_type": "markdown",
      "metadata": {
        "id": "-FjLRv1G7Uc8"
      },
      "source": [
        "**三、MNIST的数据预处理**"
      ]
    },
    {
      "cell_type": "markdown",
      "metadata": {
        "id": "3An7npEC7Y2N"
      },
      "source": [
        "1.将image转化为一维向量, 转化过程是图像大小相乘，结果为：28x28 = 784, 以便于能作为神经网络的第一层输入。\n",
        "\n"
      ]
    },
    {
      "cell_type": "code",
      "metadata": {
        "id": "MKhqkC_N7SRU"
      },
      "source": [
        "X_train = X_train_image.reshape(60000,784).astype('float32') #二维转一维\n",
        "X_test = X_test_image.reshape(10000,784).astype('float32')"
      ],
      "execution_count": 8,
      "outputs": []
    },
    {
      "cell_type": "markdown",
      "metadata": {
        "id": "KlDJ19_c7bJm"
      },
      "source": [
        "2.对图像数据进行归一化。归一化是必要操作，可以提高准确率。原因是如果没有归一化那么图像的数据值是0-255，不同的图像之间的值差异很大，在训练过程中，小的值很容易被忽略。因此我们需要对数据进行缩放，常见的一种方法是将数据的值压缩到(0,1)区间内，在本例中，直接将数据除以255即可。"
      ]
    },
    {
      "cell_type": "code",
      "metadata": {
        "id": "pkcQa26i7WgW"
      },
      "source": [
        "X_train_normalize = X_train/255 #归一化\n",
        "X_test_normalize = X_test/255"
      ],
      "execution_count": 9,
      "outputs": []
    },
    {
      "cell_type": "markdown",
      "metadata": {
        "id": "J1YftAiq7h0d"
      },
      "source": [
        "3.对数据标签进行One-hot编码（独热编码），我们都知道数字识别的结果是0-9，但为了满足神经网络的最后一层的10个神经元输出，我们需要将数字转换为二进制的10个0和1的组合，具体可看下面代码例子，第一个为数据的原标签，第二个是One-hot编码后的标签。"
      ]
    },
    {
      "cell_type": "code",
      "metadata": {
        "colab": {
          "base_uri": "https://localhost:8080/"
        },
        "id": "c-Si4uqj7fUq",
        "outputId": "31e863de-caae-4dc5-b932-06a6322a6218"
      },
      "source": [
        "y_train_label[:5] #显示前5个图像的对应标签数字"
      ],
      "execution_count": 10,
      "outputs": [
        {
          "output_type": "execute_result",
          "data": {
            "text/plain": [
              "array([5, 0, 4, 1, 9], dtype=uint8)"
            ]
          },
          "metadata": {},
          "execution_count": 10
        }
      ]
    },
    {
      "cell_type": "markdown",
      "metadata": {
        "id": "6iggpGnR7mXm"
      },
      "source": [
        "之后大家可以直接调用keras的utils中的to_categorical函数进行直接数字编码。"
      ]
    },
    {
      "cell_type": "code",
      "metadata": {
        "colab": {
          "base_uri": "https://localhost:8080/"
        },
        "id": "tFaymC2M7n_m",
        "outputId": "2606231f-3e2c-4028-dbda-c5f59b3035b6"
      },
      "source": [
        "y_TrainOneHot = tf.keras.utils.to_categorical(y_train_label) #One-Hot编码\n",
        "y_TestOneHot = tf.keras.utils.to_categorical(y_test_label)\n",
        " \n",
        "y_TrainOneHot[0:5] #显示前5个数据编码后的结果"
      ],
      "execution_count": 11,
      "outputs": [
        {
          "output_type": "execute_result",
          "data": {
            "text/plain": [
              "array([[0., 0., 0., 0., 0., 1., 0., 0., 0., 0.],\n",
              "       [1., 0., 0., 0., 0., 0., 0., 0., 0., 0.],\n",
              "       [0., 0., 0., 0., 1., 0., 0., 0., 0., 0.],\n",
              "       [0., 1., 0., 0., 0., 0., 0., 0., 0., 0.],\n",
              "       [0., 0., 0., 0., 0., 0., 0., 0., 0., 1.]], dtype=float32)"
            ]
          },
          "metadata": {},
          "execution_count": 11
        }
      ]
    },
    {
      "cell_type": "markdown",
      "metadata": {
        "id": "9JGpkPdA7q4v"
      },
      "source": [
        "上图为编码结果，其中1在第几个位置则代表了数字的大小是多少。"
      ]
    },
    {
      "cell_type": "markdown",
      "metadata": {
        "id": "FLMjhZA87zcB"
      },
      "source": [
        "**四.模型的搭建**\n"
      ]
    },
    {
      "cell_type": "markdown",
      "metadata": {
        "id": "f0fFAPLy71wy"
      },
      "source": [
        "1.建立线性堆叠模型Sequential，使用它我们可以搭建出很多复杂的神经网络模型，后面的层就犹如叠面包一样一层一层通过add指令叠加上去就好了，十分方便。\n",
        "\n"
      ]
    },
    {
      "cell_type": "code",
      "metadata": {
        "id": "4cVedAPG78wV"
      },
      "source": [
        "model = tf.keras.models.Sequential() # 调用Sequential模型\n"
      ],
      "execution_count": 12,
      "outputs": []
    },
    {
      "cell_type": "markdown",
      "metadata": {
        "id": "b7xgZpkD8Aw5"
      },
      "source": [
        "2.不断叠加层上去，Dense层是全连接层，指的是神经前后前后两层神经元中两两都有互相连接，而Dropout的层的作用是为了防止过拟合（过拟合概念可自行查询），随机使多少比例的神经元失活，等于是断了之间的连接关系。\n",
        "\n"
      ]
    },
    {
      "cell_type": "code",
      "metadata": {
        "id": "tcApQY137ocO"
      },
      "source": [
        "#units是该层神经元数量，input_dim是数据输入大小，kernel_initializer=normal指的是用正态分布来初始化神经元的权重和偏差，activation指的是激活函数\n",
        "model.add(layers.Dense(units=256,input_dim=784,kernel_initializer='normal',activation='relu')) \n",
        "model.add(layers.Dropout(0.5)) #使50%的神经元失活\n",
        "#最终输出是0-9，因此是10个神经元，softmax激活函数可以将输出转化为预测每个数字的概率\n",
        "model.add(layers.Dense(units=10,kernel_initializer='normal',activation='softmax'))"
      ],
      "execution_count": 13,
      "outputs": []
    },
    {
      "cell_type": "markdown",
      "metadata": {
        "id": "Ohunxogd8C57"
      },
      "source": [
        "3.通过summary我们可以查看我们刚才搭建的模型的概要。\n",
        "\n"
      ]
    },
    {
      "cell_type": "code",
      "metadata": {
        "colab": {
          "base_uri": "https://localhost:8080/"
        },
        "id": "U2DQUEOL74Kk",
        "outputId": "6589ecd7-1d61-4b6e-dbfb-48bb0da21e98"
      },
      "source": [
        "print(model.summary()) #显示模型信息"
      ],
      "execution_count": 14,
      "outputs": [
        {
          "output_type": "stream",
          "name": "stdout",
          "text": [
            "Model: \"sequential\"\n",
            "_________________________________________________________________\n",
            "Layer (type)                 Output Shape              Param #   \n",
            "=================================================================\n",
            "dense (Dense)                (None, 256)               200960    \n",
            "_________________________________________________________________\n",
            "dropout (Dropout)            (None, 256)               0         \n",
            "_________________________________________________________________\n",
            "dense_1 (Dense)              (None, 10)                2570      \n",
            "=================================================================\n",
            "Total params: 203,530\n",
            "Trainable params: 203,530\n",
            "Non-trainable params: 0\n",
            "_________________________________________________________________\n",
            "None\n"
          ]
        }
      ]
    },
    {
      "cell_type": "markdown",
      "metadata": {
        "id": "cSoClRHi8GbS"
      },
      "source": [
        "大家可以从上图看到我们刚建立的模型信息，其中Param指的是该层神经元总的参数数量，具体的计算公式是 Param=（上一层神经元数量）x（本层神经元数量）+（本层神经元数量）\n",
        "\n",
        "比如图中的200960是由（784x256+256）得到的。"
      ]
    },
    {
      "cell_type": "markdown",
      "metadata": {
        "id": "DdCOFvHo8Jhj"
      },
      "source": [
        "**五.模型的训练**\n"
      ]
    },
    {
      "cell_type": "markdown",
      "metadata": {
        "id": "YonPQaOZ8M3s"
      },
      "source": [
        "1.在训练模型之间，我们需要定义一些训练的相关参数，比如优化器、损失函数和评估模型的方式。\n",
        "\n"
      ]
    },
    {
      "cell_type": "code",
      "metadata": {
        "id": "6fQ1s4RZ8Mcj"
      },
      "source": [
        "#loss这里采用的交叉熵损失，优化器采用的是adam优化器，评估方式为准确率\n",
        "model.compile(loss='categorical_crossentropy',optimizer='adam',metrics=['accuracy'])"
      ],
      "execution_count": 15,
      "outputs": []
    },
    {
      "cell_type": "markdown",
      "metadata": {
        "id": "kbexyres8QZ2"
      },
      "source": [
        "2.开始训练，其中validation_split是将原数据集划分一部分为验证集，epoch是训练次数，batch_size是每一批训练的数据量，verbose=2代表显示所有训练过程。\n",
        "\n"
      ]
    },
    {
      "cell_type": "code",
      "metadata": {
        "colab": {
          "base_uri": "https://localhost:8080/"
        },
        "id": "03eeGZ2G8I-M",
        "outputId": "6c3f2b8b-17a5-4a96-9517-cdda0bbfacc2"
      },
      "source": [
        "train_history = model.fit(x=X_train_normalize,y=y_TrainOneHot,validation_split=0.2,epochs=10,batch_size=200,verbose=2) "
      ],
      "execution_count": 16,
      "outputs": [
        {
          "output_type": "stream",
          "name": "stdout",
          "text": [
            "Epoch 1/10\n",
            "240/240 - 2s - loss: 0.5344 - accuracy: 0.8462 - val_loss: 0.2282 - val_accuracy: 0.9365\n",
            "Epoch 2/10\n",
            "240/240 - 2s - loss: 0.2522 - accuracy: 0.9273 - val_loss: 0.1673 - val_accuracy: 0.9544\n",
            "Epoch 3/10\n",
            "240/240 - 2s - loss: 0.1947 - accuracy: 0.9434 - val_loss: 0.1360 - val_accuracy: 0.9620\n",
            "Epoch 4/10\n",
            "240/240 - 2s - loss: 0.1611 - accuracy: 0.9531 - val_loss: 0.1191 - val_accuracy: 0.9658\n",
            "Epoch 5/10\n",
            "240/240 - 2s - loss: 0.1435 - accuracy: 0.9577 - val_loss: 0.1053 - val_accuracy: 0.9689\n",
            "Epoch 6/10\n",
            "240/240 - 2s - loss: 0.1241 - accuracy: 0.9632 - val_loss: 0.0983 - val_accuracy: 0.9698\n",
            "Epoch 7/10\n",
            "240/240 - 2s - loss: 0.1110 - accuracy: 0.9671 - val_loss: 0.0910 - val_accuracy: 0.9732\n",
            "Epoch 8/10\n",
            "240/240 - 2s - loss: 0.1017 - accuracy: 0.9693 - val_loss: 0.0899 - val_accuracy: 0.9730\n",
            "Epoch 9/10\n",
            "240/240 - 2s - loss: 0.0939 - accuracy: 0.9717 - val_loss: 0.0835 - val_accuracy: 0.9747\n",
            "Epoch 10/10\n",
            "240/240 - 2s - loss: 0.0891 - accuracy: 0.9730 - val_loss: 0.0799 - val_accuracy: 0.9756\n"
          ]
        }
      ]
    },
    {
      "cell_type": "markdown",
      "metadata": {
        "id": "o0Fe-p5t8Uoe"
      },
      "source": [
        "3.我们可以通过train_history查看训练过程，之前的训练步骤的值都保存在这里面。这里共有loss,accuracy,val_loss,val_accuracy四个参数。\n",
        "\n"
      ]
    },
    {
      "cell_type": "code",
      "metadata": {
        "colab": {
          "base_uri": "https://localhost:8080/"
        },
        "id": "kdMGr_NP8I0T",
        "outputId": "9959f25a-6ca2-4f42-e3b0-9f68d3e9aedd"
      },
      "source": [
        "train_history.history"
      ],
      "execution_count": 17,
      "outputs": [
        {
          "output_type": "execute_result",
          "data": {
            "text/plain": [
              "{'accuracy': [0.8461874723434448,\n",
              "  0.9273333549499512,\n",
              "  0.9433541893959045,\n",
              "  0.9531458616256714,\n",
              "  0.957729160785675,\n",
              "  0.9632499814033508,\n",
              "  0.9670624732971191,\n",
              "  0.9692708253860474,\n",
              "  0.9717291593551636,\n",
              "  0.9730208516120911],\n",
              " 'loss': [0.5344096422195435,\n",
              "  0.2522483468055725,\n",
              "  0.19472011923789978,\n",
              "  0.16109050810337067,\n",
              "  0.14354880154132843,\n",
              "  0.12414573132991791,\n",
              "  0.1110289916396141,\n",
              "  0.10172975808382034,\n",
              "  0.09394820034503937,\n",
              "  0.08910452574491501],\n",
              " 'val_accuracy': [0.9365000128746033,\n",
              "  0.9544166922569275,\n",
              "  0.9620000123977661,\n",
              "  0.965833306312561,\n",
              "  0.968916654586792,\n",
              "  0.9698333144187927,\n",
              "  0.9732499718666077,\n",
              "  0.9729999899864197,\n",
              "  0.9746666550636292,\n",
              "  0.9755833148956299],\n",
              " 'val_loss': [0.228216752409935,\n",
              "  0.1673433780670166,\n",
              "  0.13601218163967133,\n",
              "  0.11905326694250107,\n",
              "  0.10532961040735245,\n",
              "  0.09830425679683685,\n",
              "  0.09096930176019669,\n",
              "  0.08989913016557693,\n",
              "  0.08348186314105988,\n",
              "  0.07988690584897995]}"
            ]
          },
          "metadata": {},
          "execution_count": 17
        }
      ]
    },
    {
      "cell_type": "markdown",
      "metadata": {
        "id": "zTFpp8lw8d5S"
      },
      "source": [
        "4.我们还可以定义函数，显示训练的曲线图。\n",
        "\n"
      ]
    },
    {
      "cell_type": "code",
      "metadata": {
        "colab": {
          "base_uri": "https://localhost:8080/",
          "height": 295
        },
        "id": "japwSTN_8ETQ",
        "outputId": "0ec50ea6-31bd-429e-f916-21601cbefcd3"
      },
      "source": [
        "def show_train_history(train_history,train,validation):\n",
        "    plt.plot(train_history.history[train]) #绘制训练数据的执行结果\n",
        "    plt.plot(train_history.history[validation]) #绘制验证数据的执行结果\n",
        "    plt.title('Train History') #图标题 \n",
        "    plt.xlabel('epoch') #x轴标签\n",
        "    plt.ylabel(train) #y轴标签\n",
        "    plt.legend(['train','validation'],loc='upper left') #添加左上角图例\n",
        " \n",
        "show_train_history(train_history,'accuracy','val_accuracy')"
      ],
      "execution_count": 18,
      "outputs": [
        {
          "output_type": "display_data",
          "data": {
            "image/png": "[encoded data removed]",
            "text/plain": [
              "<Figure size 432x288 with 1 Axes>"
            ]
          },
          "metadata": {
            "needs_background": "light"
          }
        }
      ]
    },
    {
      "cell_type": "markdown",
      "metadata": {
        "id": "HPcwpCBT8gx0"
      },
      "source": [
        "**六.模型的测试**\n"
      ]
    },
    {
      "cell_type": "markdown",
      "metadata": {
        "id": "AKcHmsnL8j_Q"
      },
      "source": [
        "1.我们通过evaluate可以使用模型在测试集上进行测试。\n",
        "\n"
      ]
    },
    {
      "cell_type": "code",
      "metadata": {
        "colab": {
          "base_uri": "https://localhost:8080/"
        },
        "id": "4MO7r_518fSi",
        "outputId": "1743fc64-5e75-4f76-f77c-575b9d4408e4"
      },
      "source": [
        "scores = model.evaluate(X_test_normalize,y_TestOneHot) \n",
        "print('accuracy=',scores[1]) #显示测试准确率"
      ],
      "execution_count": 19,
      "outputs": [
        {
          "output_type": "stream",
          "name": "stdout",
          "text": [
            "313/313 [==============================] - 1s 2ms/step - loss: 0.0738 - accuracy: 0.9775\n",
            "accuracy= 0.9775000214576721\n"
          ]
        }
      ]
    },
    {
      "cell_type": "markdown",
      "metadata": {
        "id": "Xfk-lJbb8nc3"
      },
      "source": [
        "2.对模型进行预测，并使用之前我们定义的函数plot_image_labels_prediction，可以方便查看预测结果之间的对应关系。\n",
        "\n"
      ]
    },
    {
      "cell_type": "code",
      "metadata": {
        "colab": {
          "base_uri": "https://localhost:8080/",
          "height": 321
        },
        "id": "JGBjmNlK8lZM",
        "outputId": "e0639bc7-996c-499f-b2ff-913b7ee1b2ea"
      },
      "source": [
        "prediction = model.predict(X_test) #结果预测\n",
        "plot_image_labels_prediction(X_test_image,y_test_label,prediction,idx=340)"
      ],
      "execution_count": 20,
      "outputs": [
        {
          "output_type": "display_data",
          "data": {
            "image/png": "[encoded data removed]",
            "text/plain": [
              "<Figure size 864x1008 with 10 Axes>"
            ]
          },
          "metadata": {}
        }
      ]
    },
    {
      "cell_type": "markdown",
      "metadata": {
        "id": "05ZP_S0AE7qN"
      },
      "source": [
        "3.我们还可以通过pandas中的crosstab调用混淆矩阵，来查看哪些结果最容易混淆，对角线部分，为正确预测的部分，其它部分则是预测错误的部分。\n",
        "\n"
      ]
    },
    {
      "cell_type": "markdown",
      "metadata": {
        "id": "-B0Jx_z8FhqB"
      },
      "source": [
        "使用pandas的crosstab函数查看混淆矩阵。这里要注意的是pandas.crosstab的输入必须是一维数组，所以传入的prediction和测试集的label都需要是一维的，如果不是一维数组，需要用reshape转为一维数组。\n"
      ]
    },
    {
      "cell_type": "code",
      "metadata": {
        "id": "558dLdaukWYi"
      },
      "source": [
        "import numpy as np\n",
        "prediction=np.argmax(prediction,axis=1)"
      ],
      "execution_count": 21,
      "outputs": []
    },
    {
      "cell_type": "code",
      "metadata": {
        "colab": {
          "base_uri": "https://localhost:8080/"
        },
        "id": "PBMmoBbPk7fH",
        "outputId": "459430fb-6044-421a-bdcb-b1786637e73a"
      },
      "source": [
        "print(prediction.shape)\n",
        "print(y_test_label.shape)"
      ],
      "execution_count": 22,
      "outputs": [
        {
          "output_type": "stream",
          "name": "stdout",
          "text": [
            "(10000,)\n",
            "(10000,)\n"
          ]
        }
      ]
    },
    {
      "cell_type": "code",
      "metadata": {
        "colab": {
          "base_uri": "https://localhost:8080/",
          "height": 388
        },
        "id": "Ay6zK1zV8o0M",
        "outputId": "3cbb93bd-c1b5-4fa3-8403-3ce7005d4abe"
      },
      "source": [
        "pd.crosstab(y_test_label,prediction,rownames=['label'],colnames=['predict'])"
      ],
      "execution_count": 23,
      "outputs": [
        {
          "output_type": "execute_result",
          "data": {
            "text/html": [
              "<div>\n",
              "<style scoped>\n",
              "    .dataframe tbody tr th:only-of-type {\n",
              "        vertical-align: middle;\n",
              "    }\n",
              "\n",
              "    .dataframe tbody tr th {\n",
              "        vertical-align: top;\n",
              "    }\n",
              "\n",
              "    .dataframe thead th {\n",
              "        text-align: right;\n",
              "    }\n",
              "</style>\n",
              "<table border=\"1\" class=\"dataframe\">\n",
              "  <thead>\n",
              "    <tr style=\"text-align: right;\">\n",
              "      <th>predict</th>\n",
              "      <th>0</th>\n",
              "      <th>1</th>\n",
              "      <th>2</th>\n",
              "      <th>3</th>\n",
              "      <th>4</th>\n",
              "      <th>5</th>\n",
              "      <th>6</th>\n",
              "      <th>7</th>\n",
              "      <th>8</th>\n",
              "      <th>9</th>\n",
              "    </tr>\n",
              "    <tr>\n",
              "      <th>label</th>\n",
              "      <th></th>\n",
              "      <th></th>\n",
              "      <th></th>\n",
              "      <th></th>\n",
              "      <th></th>\n",
              "      <th></th>\n",
              "      <th></th>\n",
              "      <th></th>\n",
              "      <th></th>\n",
              "      <th></th>\n",
              "    </tr>\n",
              "  </thead>\n",
              "  <tbody>\n",
              "    <tr>\n",
              "      <th>0</th>\n",
              "      <td>968</td>\n",
              "      <td>0</td>\n",
              "      <td>1</td>\n",
              "      <td>2</td>\n",
              "      <td>0</td>\n",
              "      <td>0</td>\n",
              "      <td>4</td>\n",
              "      <td>1</td>\n",
              "      <td>3</td>\n",
              "      <td>1</td>\n",
              "    </tr>\n",
              "    <tr>\n",
              "      <th>1</th>\n",
              "      <td>0</td>\n",
              "      <td>1119</td>\n",
              "      <td>4</td>\n",
              "      <td>1</td>\n",
              "      <td>0</td>\n",
              "      <td>0</td>\n",
              "      <td>3</td>\n",
              "      <td>0</td>\n",
              "      <td>8</td>\n",
              "      <td>0</td>\n",
              "    </tr>\n",
              "    <tr>\n",
              "      <th>2</th>\n",
              "      <td>4</td>\n",
              "      <td>0</td>\n",
              "      <td>1004</td>\n",
              "      <td>3</td>\n",
              "      <td>2</td>\n",
              "      <td>0</td>\n",
              "      <td>2</td>\n",
              "      <td>6</td>\n",
              "      <td>11</td>\n",
              "      <td>0</td>\n",
              "    </tr>\n",
              "    <tr>\n",
              "      <th>3</th>\n",
              "      <td>1</td>\n",
              "      <td>0</td>\n",
              "      <td>6</td>\n",
              "      <td>990</td>\n",
              "      <td>0</td>\n",
              "      <td>2</td>\n",
              "      <td>0</td>\n",
              "      <td>4</td>\n",
              "      <td>6</td>\n",
              "      <td>1</td>\n",
              "    </tr>\n",
              "    <tr>\n",
              "      <th>4</th>\n",
              "      <td>1</td>\n",
              "      <td>0</td>\n",
              "      <td>4</td>\n",
              "      <td>0</td>\n",
              "      <td>957</td>\n",
              "      <td>0</td>\n",
              "      <td>4</td>\n",
              "      <td>2</td>\n",
              "      <td>2</td>\n",
              "      <td>12</td>\n",
              "    </tr>\n",
              "    <tr>\n",
              "      <th>5</th>\n",
              "      <td>2</td>\n",
              "      <td>0</td>\n",
              "      <td>0</td>\n",
              "      <td>15</td>\n",
              "      <td>2</td>\n",
              "      <td>852</td>\n",
              "      <td>8</td>\n",
              "      <td>1</td>\n",
              "      <td>9</td>\n",
              "      <td>3</td>\n",
              "    </tr>\n",
              "    <tr>\n",
              "      <th>6</th>\n",
              "      <td>4</td>\n",
              "      <td>3</td>\n",
              "      <td>0</td>\n",
              "      <td>1</td>\n",
              "      <td>2</td>\n",
              "      <td>3</td>\n",
              "      <td>943</td>\n",
              "      <td>0</td>\n",
              "      <td>2</td>\n",
              "      <td>0</td>\n",
              "    </tr>\n",
              "    <tr>\n",
              "      <th>7</th>\n",
              "      <td>1</td>\n",
              "      <td>6</td>\n",
              "      <td>14</td>\n",
              "      <td>2</td>\n",
              "      <td>0</td>\n",
              "      <td>0</td>\n",
              "      <td>0</td>\n",
              "      <td>994</td>\n",
              "      <td>1</td>\n",
              "      <td>10</td>\n",
              "    </tr>\n",
              "    <tr>\n",
              "      <th>8</th>\n",
              "      <td>2</td>\n",
              "      <td>0</td>\n",
              "      <td>1</td>\n",
              "      <td>6</td>\n",
              "      <td>3</td>\n",
              "      <td>1</td>\n",
              "      <td>1</td>\n",
              "      <td>4</td>\n",
              "      <td>955</td>\n",
              "      <td>1</td>\n",
              "    </tr>\n",
              "    <tr>\n",
              "      <th>9</th>\n",
              "      <td>3</td>\n",
              "      <td>5</td>\n",
              "      <td>0</td>\n",
              "      <td>11</td>\n",
              "      <td>6</td>\n",
              "      <td>1</td>\n",
              "      <td>1</td>\n",
              "      <td>5</td>\n",
              "      <td>2</td>\n",
              "      <td>975</td>\n",
              "    </tr>\n",
              "  </tbody>\n",
              "</table>\n",
              "</div>"
            ],
            "text/plain": [
              "predict    0     1     2    3    4    5    6    7    8    9\n",
              "label                                                      \n",
              "0        968     0     1    2    0    0    4    1    3    1\n",
              "1          0  1119     4    1    0    0    3    0    8    0\n",
              "2          4     0  1004    3    2    0    2    6   11    0\n",
              "3          1     0     6  990    0    2    0    4    6    1\n",
              "4          1     0     4    0  957    0    4    2    2   12\n",
              "5          2     0     0   15    2  852    8    1    9    3\n",
              "6          4     3     0    1    2    3  943    0    2    0\n",
              "7          1     6    14    2    0    0    0  994    1   10\n",
              "8          2     0     1    6    3    1    1    4  955    1\n",
              "9          3     5     0   11    6    1    1    5    2  975"
            ]
          },
          "metadata": {},
          "execution_count": 23
        }
      ]
    },
    {
      "cell_type": "markdown",
      "metadata": {
        "id": "X6QfzKFglzYe"
      },
      "source": [
        "4.我们还可以通过pandas的DataFrame来查看预测错误数据的位置。\n",
        "\n"
      ]
    },
    {
      "cell_type": "code",
      "metadata": {
        "colab": {
          "base_uri": "https://localhost:8080/"
        },
        "id": "FrFMvk70l1It",
        "outputId": "57d78de7-f20c-478e-b636-1075803ab523"
      },
      "source": [
        "df = pd.DataFrame({'label':y_test_label,'predict':prediction})\n",
        "print(df[(df.label==5)&(df.predict==3)]) #查看是5预测错成3的数据位置"
      ],
      "execution_count": 24,
      "outputs": [
        {
          "output_type": "stream",
          "name": "stdout",
          "text": [
            "      label  predict\n",
            "340       5        3\n",
            "1003      5        3\n",
            "1393      5        3\n",
            "2035      5        3\n",
            "2810      5        3\n",
            "3702      5        3\n",
            "3902      5        3\n",
            "4271      5        3\n",
            "4360      5        3\n",
            "5937      5        3\n",
            "5972      5        3\n",
            "6598      5        3\n",
            "6706      5        3\n",
            "8160      5        3\n",
            "9482      5        3\n"
          ]
        }
      ]
    },
    {
      "cell_type": "markdown",
      "metadata": {
        "id": "AFvrcjjQmAdv"
      },
      "source": [
        "或者通过我们先前定义的plot_image_labels_prediction函数，也可以直接查看预测错误的图像。\n",
        "\n"
      ]
    },
    {
      "cell_type": "code",
      "metadata": {
        "colab": {
          "base_uri": "https://localhost:8080/",
          "height": 164
        },
        "id": "Uuh0RUoEmBa_",
        "outputId": "b57bfdac-bdab-4b8d-fa9a-623ca9447ed6"
      },
      "source": [
        "plot_image_labels_prediction(X_test_image,y_test_label,prediction,idx=340,nums=1)\n"
      ],
      "execution_count": 25,
      "outputs": [
        {
          "output_type": "display_data",
          "data": {
            "image/png": "[encoded data removed]",
            "text/plain": [
              "<Figure size 864x1008 with 1 Axes>"
            ]
          },
          "metadata": {}
        }
      ]
    },
    {
      "cell_type": "markdown",
      "metadata": {
        "id": "qTBHu6TkmHfq"
      },
      "source": [
        "以上便是Keras第一个实例的操作内容，该实例比较完整的演示了一个简单数据集在训练、测试及预测的整体流程，过段时间会分享后续的系列内容。"
      ]
    }
  ]
}